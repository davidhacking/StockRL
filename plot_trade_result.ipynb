{
 "cells": [
  {
   "cell_type": "markdown",
   "metadata": {},
   "source": [
    "# 结果展示"
   ]
  },
  {
   "cell_type": "code",
   "execution_count": null,
   "metadata": {},
   "outputs": [],
   "source": [
    "import pandas as pd\n",
    "import numpy as np\n",
    "import matplotlib\n",
    "import matplotlib.pyplot as plt\n",
    "import datetime\n",
    "import time\n",
    "import os\n",
    "\n",
    "from utils import config\n",
    "from utils.backtest import *"
   ]
  },
  {
   "cell_type": "markdown",
   "metadata": {},
   "source": [
    "## 数据读取"
   ]
  },
  {
   "cell_type": "code",
   "execution_count": null,
   "metadata": {},
   "outputs": [],
   "source": [
    "root_path = os.getcwd()\n",
    "root_path = os.path.join(root_path, \"learn\", \"trade_file\")\n",
    "print(\"root_path: \", root_path)\n",
    "data_file_path = os.path.join(os.getcwd(), \"learn\", \"data_file\")\n",
    "mode = 1\n",
    "if mode == 1:\n",
    "    test_file = os.path.join(data_file_path, \"stock_info_test.csv\")\n",
    "else:\n",
    "    test_file = os.path.join(data_file_path, \"trade.csv\")\n",
    "test_pd = pd.read_csv(test_file)\n",
    "start_date = test_pd['date'].min().replace(\"-\", \"\")\n",
    "end_date = test_pd['date'].max().replace(\"-\", \"\")\n",
    "print(start_date, end_date)"
   ]
  },
  {
   "cell_type": "code",
   "execution_count": null,
   "metadata": {},
   "outputs": [],
   "source": [
    "model_list = [\"a2c\", \"ppo\", \"td3\", \"ddpg\", \"sac\"]\n",
    "path_dict = {}\n",
    "for model in model_list:\n",
    "    path_dict[model] = os.path.join(root_path, \"account_value_{}.csv\".format(model))"
   ]
  },
  {
   "cell_type": "code",
   "execution_count": null,
   "metadata": {},
   "outputs": [],
   "source": [
    "account_value_dict = {}\n",
    "for m in model_list:\n",
    "    account_value_dict[m] = pd.read_csv(path_dict[m])"
   ]
  },
  {
   "cell_type": "markdown",
   "metadata": {},
   "source": [
    "## 获取 baseline 的结果"
   ]
  },
  {
   "cell_type": "code",
   "execution_count": null,
   "metadata": {},
   "outputs": [],
   "source": [
    "get_baseline_func = lambda: get_baseline(config.SSE_50_INDEX, \n",
    "              start=start_date,\n",
    "              end=end_date)\n",
    "baseline_csv_file = root_path + os.sep + f\"baseline_sse50_{start_date}_{end_date}.csv\"\n",
    "baseline_df = get_baseline_from_file(baseline_csv_file, get_baseline_func)"
   ]
  },
  {
   "cell_type": "code",
   "execution_count": null,
   "metadata": {},
   "outputs": [],
   "source": [
    "baseline_stats = backtest_stats(baseline_df, value_col_name='close')"
   ]
  },
  {
   "cell_type": "code",
   "execution_count": null,
   "metadata": {},
   "outputs": [],
   "source": [
    "start_close_value = baseline_df.iloc[0]['close']\n",
    "baseline_df['processed_close'] = ((baseline_df['close'] - start_close_value)/start_close_value + 1) * 1e+6"
   ]
  },
  {
   "cell_type": "code",
   "execution_count": null,
   "metadata": {},
   "outputs": [],
   "source": [
    "baseline_df.head()"
   ]
  },
  {
   "cell_type": "markdown",
   "metadata": {},
   "source": [
    "## 展示最终的结果"
   ]
  },
  {
   "cell_type": "code",
   "execution_count": null,
   "metadata": {},
   "outputs": [],
   "source": [
    "data = {\n",
    "    m: account_value_dict[m]['total_assets'] for m in model_list\n",
    "}\n",
    "data['baseline'] = baseline_df['processed_close']\n",
    "result_account_value = pd.DataFrame(data = data)"
   ]
  },
  {
   "cell_type": "code",
   "execution_count": null,
   "metadata": {},
   "outputs": [],
   "source": [
    "result_account_value = result_account_value.iloc[:-1].apply(lambda x : (x - 1e+6)/1e+6)"
   ]
  },
  {
   "cell_type": "code",
   "execution_count": null,
   "metadata": {},
   "outputs": [],
   "source": [
    "result_account_value.tail()"
   ]
  },
  {
   "cell_type": "code",
   "execution_count": null,
   "metadata": {},
   "outputs": [],
   "source": [
    "result_account_value.to_csv(os.path.join(root_path, \"result_account_value.csv\"), index=False)"
   ]
  },
  {
   "cell_type": "code",
   "execution_count": null,
   "metadata": {},
   "outputs": [],
   "source": [
    "plt.figure(figsize=(10, 6))\n",
    "for col in result_account_value.columns:\n",
    "    plt.plot(result_account_value.index, result_account_value[col], label=col)\n",
    "\n",
    "plt.xlabel('Index')\n",
    "plt.ylabel('Value')\n",
    "plt.title('Account Value Comparison')\n",
    "plt.legend()\n",
    "plt.show()"
   ]
  },
  {
   "cell_type": "markdown",
   "metadata": {},
   "source": [
    "## 展示回测结果"
   ]
  },
  {
   "cell_type": "code",
   "execution_count": null,
   "metadata": {},
   "outputs": [],
   "source": [
    "print(\"和 {} 指数进行比较\".format(config.SSE_50_INDEX[0]))\n",
    "cmp_data = backtest_plot_from_file(baseline_csv_file, get_baseline_func, \n",
    "                        account_value_dict,\n",
    "                        value_col_name = 'total_assets')\n",
    "df = pd.DataFrame(cmp_data).T\n",
    "df"
   ]
  }
 ],
 "metadata": {
  "kernelspec": {
   "display_name": "stock_rl",
   "language": "python",
   "name": "python3"
  },
  "language_info": {
   "codemirror_mode": {
    "name": "ipython",
    "version": 3
   },
   "file_extension": ".py",
   "mimetype": "text/x-python",
   "name": "python",
   "nbconvert_exporter": "python",
   "pygments_lexer": "ipython3",
   "version": "3.10.15 (main, Oct  3 2024, 07:27:34) [GCC 11.2.0]"
  },
  "vscode": {
   "interpreter": {
    "hash": "f71a46dd9f71a12a7082b10ef074381e450819f7d342047f60d218dccba8b7e6"
   }
  }
 },
 "nbformat": 4,
 "nbformat_minor": 4
}
