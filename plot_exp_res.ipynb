{
 "cells": [
  {
   "cell_type": "code",
   "execution_count": null,
   "metadata": {},
   "outputs": [],
   "source": [
    "import pandas as pd\n",
    "import numpy as np\n",
    "import matplotlib\n",
    "import matplotlib.pyplot as plt\n",
    "import datetime\n",
    "import time\n",
    "import os\n",
    "from utils import run_exp_strategy"
   ]
  },
  {
   "cell_type": "code",
   "execution_count": null,
   "metadata": {},
   "outputs": [],
   "source": [
    "r = run_exp_strategy.RunExpStrategy()\n",
    "r.total_timesteps = 200000\n",
    "r.exp_id = 9\n",
    "r.start_date = \"20090101\"\n",
    "r.split_date = \"20240101\"\n",
    "r.end_date = datetime.datetime.now().strftime(\"%Y%m%d\")\n",
    "r.a_stock_list = \"SSE_50_EXT\"\n",
    "r.h_stock_list = \"\"\n",
    "r.usa_stock_list = \"\"\n",
    "r.baseline_stocks = \"SSE_50_INDEX\"\n",
    "r.no_tushare = True\n",
    "r.rerun_test = True\n",
    "r.redownload_data = True\n",
    "r.need_pe = True\n",
    "r.state_init_func = \"AllCashStateIntiator\"\n",
    "r.user_stock_account = \"LocalUserStockAccount\"\n",
    "# r.user_stock_account = \"FutuUserStockAccount\"\n",
    "r.initial_amount = 1000000\n",
    "r.hmax = 5000\n",
    "r.env_params[\"hmax\"] = r.hmax\n",
    "r.trade_env_params[\"initial_amount\"] = r.initial_amount\n",
    "r.trade_env_params[\"initial_amount\"] = r.initial_amount\n",
    "# r.test_model_names = [\"ddpg\"]\n",
    "r.create_exp_dir()\n",
    "r.download_stock_data()\n",
    "r.download_baseline_stocks()\n",
    "r.split_train_and_test_data()\n",
    "r.train_model()\n",
    "r.test_model()\n",
    "backtest_table, backtest_curve = r.plot_test_result()\n",
    "profits = r.get_stock_profit()"
   ]
  },
  {
   "cell_type": "code",
   "execution_count": null,
   "metadata": {},
   "outputs": [],
   "source": [
    "df0 = profits['ddpg'][0]\n",
    "df0"
   ]
  },
  {
   "cell_type": "code",
   "execution_count": null,
   "metadata": {},
   "outputs": [],
   "source": [
    "df1 = profits['ddpg'][1]\n",
    "df1"
   ]
  },
  {
   "cell_type": "code",
   "execution_count": null,
   "metadata": {},
   "outputs": [],
   "source": [
    "plt.figure(figsize=(10, 6))\n",
    "for col in backtest_curve.columns:\n",
    "    plt.plot(backtest_curve.index, backtest_curve[col], label=col)\n",
    "plt.xlabel('Index')\n",
    "plt.ylabel('Value')\n",
    "plt.title('Account Value Comparison - Group 1')\n",
    "plt.legend()\n",
    "plt.show()"
   ]
  },
  {
   "cell_type": "code",
   "execution_count": null,
   "metadata": {},
   "outputs": [],
   "source": [
    "df = pd.DataFrame(backtest_table).T\n",
    "df"
   ]
  }
 ],
 "metadata": {
  "kernelspec": {
   "display_name": "stock_rl",
   "language": "python",
   "name": "python3"
  },
  "language_info": {
   "codemirror_mode": {
    "name": "ipython",
    "version": 3
   },
   "file_extension": ".py",
   "mimetype": "text/x-python",
   "name": "python",
   "nbconvert_exporter": "python",
   "pygments_lexer": "ipython3",
   "version": "3.10.15 (main, Oct  3 2024, 07:27:34) [GCC 11.2.0]"
  },
  "vscode": {
   "interpreter": {
    "hash": "f71a46dd9f71a12a7082b10ef074381e450819f7d342047f60d218dccba8b7e6"
   }
  }
 },
 "nbformat": 4,
 "nbformat_minor": 4
}
